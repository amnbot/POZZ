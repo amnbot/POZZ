{
 "cells": [
  {
   "cell_type": "code",
   "execution_count": 81,
   "id": "2d2fb5e4-f808-4a38-9ce4-fd12a8e0befc",
   "metadata": {},
   "outputs": [],
   "source": [
    "import torch.nn as nn\n",
    "import torch.nn.functional as F\n",
    "import torch\n",
    "import numpy as np\n",
    "import pandas as pd\n",
    "from torch.utils.data import Dataset\n",
    "\n",
    "class Model(nn.Module):\n",
    "\n",
    "    def __init__(self):\n",
    "        super().__init__()\n",
    "        self.linear1 = nn.Linear(132, 200)\n",
    "        self.linear2 = nn.Linear(200, 200)\n",
    "        self.linear3 = nn.Linear(200, 500)\n",
    "        self.linear4 = nn.Linear(500, 200)\n",
    "        self.output = nn.Linear(200, 2)\n",
    "    def forward(self, x):\n",
    "        \n",
    "        x = F.relu(self.linear1(x))\n",
    "        x = F.relu(self.linear2(x))\n",
    "        x = F.relu(self.linear2(x))\n",
    "        return F.softmax(self.output(x), dim=1)\n",
    "    \n",
    "\n",
    "class SticksDataset(Dataset):\n",
    "    def __init__(self, sticks_path, labels_path): \n",
    "        self.sticks = torch.tensor(np.load(sticks_path)).float()\n",
    "\n",
    "        \n",
    "        self.labels = torch.tensor(np.load(labels_path)).float()\n",
    "\n",
    "    def __len__(self):\n",
    "        return self.labels.shape[0]\n",
    "\n",
    "    def __getitem__(self, idx):\n",
    "        return self.sticks[idx], self.labels[idx]"
   ]
  },
  {
   "cell_type": "code",
   "execution_count": 82,
   "id": "06776ad1-e206-4826-ba9f-1c9b751875ab",
   "metadata": {},
   "outputs": [],
   "source": [
    "from torch.utils.data import DataLoader\n",
    "data = SticksDataset(\"sticks.npy\", \"labels.npy\")\n",
    "train_dataloader = DataLoader(data, batch_size=64, shuffle=True)"
   ]
  },
  {
   "cell_type": "code",
   "execution_count": 89,
   "id": "202054ad-f589-4e0b-b2bf-6dfbec6a3e6f",
   "metadata": {},
   "outputs": [
    {
     "name": "stdout",
     "output_type": "stream",
     "text": [
      "[epoch: 0] loss: 0.22794899344444275\n",
      "[epoch: 10] loss: 0.024764686822891235\n",
      "[epoch: 20] loss: 0.004781671799719334\n",
      "[epoch: 30] loss: 0.0007192490738816559\n",
      "[epoch: 40] loss: 0.01733780838549137\n",
      "[epoch: 50] loss: 0.01762513816356659\n",
      "[epoch: 60] loss: 0.0004258677363395691\n",
      "[epoch: 70] loss: 0.015977567061781883\n",
      "[epoch: 80] loss: 0.016008982434868813\n",
      "[epoch: 90] loss: 0.015954524278640747\n",
      "[epoch: 100] loss: 9.663841046858579e-05\n",
      "[epoch: 110] loss: 8.667635847814381e-05\n",
      "[epoch: 120] loss: 0.015879176557064056\n",
      "[epoch: 130] loss: 0.031709618866443634\n",
      "[epoch: 140] loss: 3.6911053030053154e-05\n",
      "[epoch: 150] loss: 0.029532723128795624\n",
      "[epoch: 160] loss: 0.00011608311615418643\n",
      "[epoch: 170] loss: 0.00018017698312178254\n",
      "[epoch: 180] loss: 0.00014380984066519886\n",
      "[epoch: 190] loss: 0.0006116138538345695\n"
     ]
    }
   ],
   "source": [
    "import torch.optim as optim\n",
    "model = Model()\n",
    "\n",
    "criter = nn.MSELoss()\n",
    "optimizer = optim.Adam(model.parameters(), lr=0.0001, weight_decay=1e-5)\n",
    "nttlstps = len(data)\n",
    "model.train()\n",
    "for epoch in range(200):\n",
    "    running_loss = 0.0\n",
    "    for x, (train_features, train_labels) in enumerate(train_dataloader):\n",
    "        optimizer.zero_grad()\n",
    "        # forward + backward + optimize\n",
    "        outputs = model(train_features)\n",
    "        loss = criter(outputs, train_labels)\n",
    "        loss.backward()\n",
    "        optimizer.step()\n",
    "\n",
    "    # print statistics\n",
    "        running_loss += loss.item()\n",
    "    if epoch % 10 == 0:\n",
    "        print(f'[epoch: {epoch}] loss: {loss}')\n",
    "    \n",
    "    \n",
    "    running_loss = 0.0"
   ]
  },
  {
   "cell_type": "code",
   "execution_count": 92,
   "id": "a6d0eaff-82da-48aa-a350-13c809683b9b",
   "metadata": {},
   "outputs": [
    {
     "name": "stdout",
     "output_type": "stream",
     "text": [
      "0.744421906693712\n"
     ]
    }
   ],
   "source": [
    "import torch\n",
    "test_data = SticksDataset(\"test_datas.npy\", \"test_labels.npy\")\n",
    "test_dataloader = DataLoader(test_data, batch_size=1, shuffle=True)\n",
    "total = 0\n",
    "correct = 0\n",
    "model.eval()\n",
    "with torch.no_grad():\n",
    "\n",
    "    for x, (test_features, test_labels) in enumerate(test_dataloader):\n",
    "            # forward + backward + optimize\n",
    "            \n",
    "        outputs = model(test_features)\n",
    "        if torch.argmax(test_labels) == torch.argmax(outputs):\n",
    "            correct += 1\n",
    "            \n",
    "        total +=1\n",
    "        \n",
    "print(correct/total)"
   ]
  },
  {
   "cell_type": "code",
   "execution_count": 91,
   "id": "b5fd680f-f53d-4a98-a61f-178a7377efac",
   "metadata": {},
   "outputs": [],
   "source": [
    "model_scripted = torch.jit.script(model) # Export to TorchScript\n",
    "model_scripted.save('model_scripted_1.pt') # Save"
   ]
  },
  {
   "cell_type": "code",
   "execution_count": null,
   "id": "164a11d5-c9cf-44e0-94a9-7912a9248c97",
   "metadata": {},
   "outputs": [],
   "source": []
  }
 ],
 "metadata": {
  "kernelspec": {
   "display_name": "Python 3 (ipykernel)",
   "language": "python",
   "name": "python3"
  },
  "language_info": {
   "codemirror_mode": {
    "name": "ipython",
    "version": 3
   },
   "file_extension": ".py",
   "mimetype": "text/x-python",
   "name": "python",
   "nbconvert_exporter": "python",
   "pygments_lexer": "ipython3",
   "version": "3.10.6"
  }
 },
 "nbformat": 4,
 "nbformat_minor": 5
}
