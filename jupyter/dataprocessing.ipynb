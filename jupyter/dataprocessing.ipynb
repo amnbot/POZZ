{
 "cells": [
  {
   "cell_type": "code",
   "execution_count": 75,
   "id": "ba5fcc27-fc6b-46f5-97db-ed49a4ed346c",
   "metadata": {},
   "outputs": [],
   "source": [
    "import cv2"
   ]
  },
  {
   "cell_type": "code",
   "execution_count": 76,
   "id": "666f98c5-94f3-4dcb-a131-a111c5144d08",
   "metadata": {},
   "outputs": [],
   "source": [
    "import mediapipe as mp"
   ]
  },
  {
   "cell_type": "code",
   "execution_count": 89,
   "id": "931dd8f9-290d-4d9e-901b-4339339fc854",
   "metadata": {},
   "outputs": [],
   "source": [
    "import numpy as np"
   ]
  },
  {
   "cell_type": "code",
   "execution_count": 78,
   "id": "fd391d2f-bbc2-4937-a21b-77420657243e",
   "metadata": {},
   "outputs": [],
   "source": [
    "import os\n",
    "import glob\n",
    "from matplotlib import pyplot as plt"
   ]
  },
  {
   "cell_type": "code",
   "execution_count": 79,
   "id": "c39dbc05-a6a2-46fb-bfb0-fdb3d5731910",
   "metadata": {},
   "outputs": [],
   "source": [
    "mp_drawing = mp.solutions.drawing_utils\n",
    "mp_drawing_styles = mp.solutions.drawing_styles\n",
    "mp_pose = mp.solutions.pose\n",
    "\n",
    "\n",
    "\n",
    "# For static images:\n",
    "IMAGE_FILES = glob.glob(\"/home/junkai/Projects/pozz/test_set/bad/*.jpg\")\n",
    "data = np.zeros(( len(IMAGE_FILES),33, 4,))\n",
    "with mp_pose.Pose(\n",
    "    static_image_mode=True,\n",
    "    model_complexity=2,\n",
    "    enable_segmentation=True,\n",
    "    min_detection_confidence=0.5) as pose:\n",
    "    for idx, file in enumerate(IMAGE_FILES):\n",
    "        image = cv2.imread(file)\n",
    "        image_height, image_width, _ = image.shape\n",
    "        # Convert the BGR image to RGB before processing.\n",
    "        results = pose.process(cv2.cvtColor(image, cv2.COLOR_BGR2RGB))\n",
    "\n",
    "        pose_landmarks = results.pose_landmarks\n",
    "\n",
    "    \n",
    "\n",
    "        for i, data_point in enumerate(pose_landmarks.landmark):\n",
    "            if data_point.visibility >= 0.5:\n",
    "                data[idx][i][0] =  data_point.x\n",
    "                data[idx][i][1] =  data_point.y\n",
    "                data[idx][i][2] =  data_point.z\n",
    "                data[idx][i][3] =  data_point.visibility\n",
    "\n",
    "    "
   ]
  },
  {
   "cell_type": "code",
   "execution_count": 80,
   "id": "f6a3f219-6b9d-4055-a30b-edb9ac1dfd82",
   "metadata": {},
   "outputs": [],
   "source": [
    "bad = data.reshape(len(IMAGE_FILES), -1)"
   ]
  },
  {
   "cell_type": "code",
   "execution_count": 81,
   "id": "8e2d0bf0-ee7b-4a65-8bdd-ab4f92d1b286",
   "metadata": {},
   "outputs": [],
   "source": [
    "# For static images:\n",
    "IMAGE_FILES = glob.glob(\"/home/junkai/Projects/pozz/test_set/good/*.jpg\")\n",
    "data = np.zeros(( len(IMAGE_FILES),33, 4,))\n",
    "with mp_pose.Pose(\n",
    "    static_image_mode=True,\n",
    "    model_complexity=2,\n",
    "    enable_segmentation=True,\n",
    "    min_detection_confidence=0.5) as pose:\n",
    "    for idx, file in enumerate(IMAGE_FILES):\n",
    "        image = cv2.imread(file)\n",
    "        image_height, image_width, _ = image.shape\n",
    "        # Convert the BGR image to RGB before processing.\n",
    "        results = pose.process(cv2.cvtColor(image, cv2.COLOR_BGR2RGB))\n",
    "\n",
    "        pose_landmarks = results.pose_landmarks\n",
    "\n",
    "    \n",
    "\n",
    "        for i, data_point in enumerate(pose_landmarks.landmark):\n",
    "            if data_point.visibility >= 0.5:\n",
    "                data[idx][i][0] =  data_point.x # To improve performance, optionally mark the image as not writeable to\n",
    "    # pass by reference.\n",
    "    image.flags.writeable = False\n",
    "    image = cv2.cvtColor(image, cv2.COLOR_BGR2RGB)\n",
    "    results = pose.process(image)\n",
    "\n",
    "    # Draw the pose annotation on the image.\n",
    "    image.flags.writeable = True\n",
    "    image = cv2.cvtColor(image, cv2.COLOR_RGB2BGR)\n",
    "    mp_drawing.draw_landmarks(\n",
    "        image,\n",
    "        results.pose_landmarks,\n",
    "        mp_pose.POSE_CONNECTIONS,\n",
    "        landmark_drawing_spec=mp_drawing_styles.get_default_pose_landmarks_style())\n",
    "    # Flip the image horizontally for a selfie-view display.\n",
    "    cv2.imshow('MediaPipe Pose', cv2.flip(image, 1))\n",
    "    if cv2.waitKey(5) & 0xFF == 27:\n",
    "      break\n",
    "cap.release()\n",
    "                data[idx][i][1] =  data_point.y\n",
    "                data[idx][i][2] =  data_point.z\n",
    "                data[idx][i][3] =  data_point.visibility\n"
   ]
  },
  {
   "cell_type": "code",
   "execution_count": 82,
   "id": "173855b4-0449-4394-9e2d-9e5c92239de4",
   "metadata": {},
   "outputs": [],
   "source": [
    "good = data.reshape(len(IMAGE_FILES), -1)"
   ]
  },
  {
   "cell_type": "code",
   "execution_count": 83,
   "id": "f6368f6b-58b8-4955-aa5c-e1ebd744fc94",
   "metadata": {},
   "outputs": [
    {
     "data": {
      "text/plain": [
       "(329, 132)"
      ]
     },
     "execution_count": 83,
     "metadata": {},
     "output_type": "execute_result"
    }
   ],
   "source": [
    "bad.shape"
   ]
  },
  {
   "cell_type": "code",
   "execution_count": 84,
   "id": "0db702e9-f38b-4fd2-aef8-a42712903fa0",
   "metadata": {},
   "outputs": [
    {
     "data": {
      "text/plain": [
       "(493, 132)"
      ]
     },
     "execution_count": 84,
     "metadata": {},
     "output_type": "execute_result"
    }
   ],
   "source": [
    "data = np.concatenate((good, bad))\n",
    "data.shape"
   ]
  },
  {
   "cell_type": "code",
   "execution_count": 85,
   "id": "462b5324-08c0-4901-8aee-8f9c737923df",
   "metadata": {},
   "outputs": [],
   "source": [
    "good_label = np.zeros((good.shape[0], 2))\n",
    "good_label[:,0] = np.ones((good.shape[0]))\n",
    "bad_label = np.zeros((bad.shape[0], 2))\n",
    "bad_label[:, 1] = np.ones((bad.shape[0]))"
   ]
  },
  {
   "cell_type": "code",
   "execution_count": 86,
   "id": "ef9d747c-cf02-433a-a8e8-2c3ea2bfad21",
   "metadata": {},
   "outputs": [],
   "source": [
    "labels = np.concatenate((good_label, bad_label))"
   ]
  },
  {
   "cell_type": "code",
   "execution_count": 87,
   "id": "4d61a739-78f0-41b6-a451-422b15fede1d",
   "metadata": {},
   "outputs": [
    {
     "data": {
      "text/plain": [
       "(493, 2)"
      ]
     },
     "execution_count": 87,
     "metadata": {},
     "output_type": "execute_result"
    }
   ],
   "source": [
    "labels.shape"
   ]
  },
  {
   "cell_type": "code",
   "execution_count": 88,
   "id": "9f47440d-8bd5-4f38-9a91-46d7a820d861",
   "metadata": {},
   "outputs": [],
   "source": [
    "np.save(\"test_datas\", data)\n",
    "np.save(\"test_labels\", labels)"
   ]
  },
  {
   "cell_type": "code",
   "execution_count": null,
   "id": "ffd7a8d7-afe3-4d84-a5ae-84526a63785e",
   "metadata": {},
   "outputs": [],
   "source": []
  }
 ],
 "metadata": {
  "kernelspec": {
   "display_name": "Python 3 (ipykernel)",
   "language": "python",
   "name": "python3"
  },
  "language_info": {
   "codemirror_mode": {
    "name": "ipython",
    "version": 3
   },
   "file_extension": ".py",
   "mimetype": "text/x-python",
   "name": "python",
   "nbconvert_exporter": "python",
   "pygments_lexer": "ipython3",
   "version": "3.10.6"
  }
 },
 "nbformat": 4,
 "nbformat_minor": 5
}
